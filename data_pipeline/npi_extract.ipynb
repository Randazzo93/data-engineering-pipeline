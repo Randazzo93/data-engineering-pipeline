{
 "cells": [
  {
   "cell_type": "code",
   "execution_count": 1,
   "id": "aa1cf474-376c-483e-81bf-000fb663035a",
   "metadata": {},
   "outputs": [],
   "source": [
    "import requests\n",
    "import pandas as pd\n",
    "import time\n",
    "import yaml\n",
    "\n",
    "from typing import Optional\n",
    "from typing import Dict"
   ]
  },
  {
   "cell_type": "code",
   "execution_count": 2,
   "id": "f7a35280-685f-4955-9aab-42de5c05b72c",
   "metadata": {},
   "outputs": [],
   "source": [
    "#ingest 200 NPIs per State:Cityto figure out how many can possibly service dementia patients (essentially a lead list)\n",
    "#I did one major city in every state"
   ]
  },
  {
   "cell_type": "code",
   "execution_count": 3,
   "id": "f33b6f34-b00f-4a91-b0fe-d9e08d060faf",
   "metadata": {},
   "outputs": [],
   "source": [
    "with open(\"state_city.yml\", \"r\") as file:\n",
    "    data = yaml.safe_load(file)\n",
    "\n",
    "state_city_request_dict = data['state_city_request_dict']"
   ]
  },
  {
   "cell_type": "code",
   "execution_count": 4,
   "id": "0c5b6344-80bb-404c-91e8-9074a0df784a",
   "metadata": {},
   "outputs": [],
   "source": [
    "error_list = []\n",
    "\n",
    "def get_flatten_payload(state_in: str, city_in: str) -> Optional[pd.DataFrame]:\n",
    "    \"\"\"\n",
    "    Fetches NPI registry data for a given state and city, and returns it as a DataFrame. The api requires at least two inputs. \n",
    "\n",
    "    Args:\n",
    "        state_in (str): The 2-letter abbreviation of the state (e.g., 'CA' for California).\n",
    "        city_in (str): The name of the city, with spaces replaced by '+'. Api Requirement.\n",
    "\n",
    "    Returns:\n",
    "        pd.DataFrame: A DataFrame containing the results from the NPI registry API if the request is successful.\n",
    "        None: If an error occurs during the request or the response is invalid.\n",
    "    \n",
    "    \"\"\"\n",
    "    \n",
    "    url = f'https://npiregistry.cms.hhs.gov/api/?number=&enumeration_type=&taxonomy_description=&first_name=&last_name=&organization_name=&address_purpose=&city={city_in}&state={state_in}&postal_code=&country_code=&limit=200&skip=&version=2.1'\n",
    "    \n",
    "    try:\n",
    "        r = requests.get(url)\n",
    "        r.raise_for_status()  \n",
    "        \n",
    "        data = r.json()\n",
    "        return pd.DataFrame(data['results'])\n",
    "    \n",
    "    except requests.exceptions.RequestException as e:\n",
    "        error_message = str(e)\n",
    "        error_list.append({\"STATE\": state_in, \"CITY\": city_in, \"ERROR\": error_message})\n",
    "        return None"
   ]
  },
  {
   "cell_type": "code",
   "execution_count": 5,
   "id": "7785aa2b-9a8a-4589-960a-7a39c39a4a34",
   "metadata": {},
   "outputs": [],
   "source": [
    "def execute_data_collection(state_city_dict: Dict[str, str]) -> None:\n",
    "    \"\"\"\n",
    "    Collects data for multiple state-city pairs, combines the results into a single DataFrame, \n",
    "    and appends the data to CSV files. Logs any errors encountered during the data collection.\n",
    "\n",
    "    Args:\n",
    "        state_city_dict (Dict[str, str]): A dictionary where keys are state abbreviations (e.g., 'CA') \n",
    "                                          and values are city names (e.g., 'Los+Angeles').\n",
    "\n",
    "    Returns:\n",
    "        None: If error, return nothing. Append to a csv for now, the csv is considered the 'table' in a warehosue\n",
    "    \"\"\"\n",
    "    data_frames = []\n",
    "    \n",
    "    for state, city in state_city_dict.items():\n",
    "        df = get_flatten_payload(state, city)\n",
    "        if df is not None:\n",
    "            data_frames.append(df)\n",
    "    \n",
    "    if data_frames:\n",
    "        combined_df = pd.concat(data_frames, ignore_index=True)\n",
    "        combined_df['ETLRUNTIME'] = pd.Timestamp.now().date()  # important for incremental building\n",
    "        combined_df.to_csv('bronze/nppes_extract_json_columns.csv', mode='a', header=not pd.io.common.file_exists('bronze/nppes_extract_json_columns.csv'), index=False)\n",
    "        print(\"Appended data to nppes_extract_json_columns.csv\")\n",
    "    \n",
    "    if error_list:\n",
    "        error_df = pd.DataFrame(error_list)\n",
    "        error_df.to_csv('bronze/erorr_log_manual.csv', mode='a', header=not pd.io.common.file_exists('bronze/ERROR_LOG_MANUAL.csv'), index=False)\n",
    "        print(\"Appended errors to ERROR_LOG_MANUAL.csv\")\n"
   ]
  },
  {
   "cell_type": "code",
   "execution_count": 6,
   "id": "1b3c1871-1d26-4554-b388-09bf30527a67",
   "metadata": {},
   "outputs": [
    {
     "name": "stdout",
     "output_type": "stream",
     "text": [
      "Appended data to nppes_extract_json_columns.csv\n",
      "AL completed, waiting till 61 seconds later for next state to process\n"
     ]
    }
   ],
   "source": [
    "for state, city in state_city_request_dict.items():\n",
    "    execute_data_collection({state: city}) \n",
    "    \n",
    "    print(f\"{state} completed, waiting till 61 seconds later for next state to process\")\n",
    "    time.sleep(61)  # Sleep for 61 seconds (1 minute is the requirement, but just to make sure i dont get blocked from the nppes)\n",
    "                    # They have a 200 requests per minute limit"
   ]
  }
 ],
 "metadata": {
  "kernelspec": {
   "display_name": "Python 3 (ipykernel)",
   "language": "python",
   "name": "python3"
  },
  "language_info": {
   "codemirror_mode": {
    "name": "ipython",
    "version": 3
   },
   "file_extension": ".py",
   "mimetype": "text/x-python",
   "name": "python",
   "nbconvert_exporter": "python",
   "pygments_lexer": "ipython3",
   "version": "3.9.11"
  }
 },
 "nbformat": 4,
 "nbformat_minor": 5
}
