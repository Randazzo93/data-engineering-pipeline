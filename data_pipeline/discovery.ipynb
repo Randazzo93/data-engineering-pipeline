{
 "cells": [
  {
   "cell_type": "code",
   "execution_count": 1,
   "id": "326933ba",
   "metadata": {},
   "outputs": [],
   "source": [
    "import redshift_connector as rc\n",
    "import pandas as pd\n",
    "import numpy as np\n",
    "import matplotlib.pyplot as plt\n",
    "import seaborn as sns\n",
    "from datetime import datetime as dt"
   ]
  },
  {
   "cell_type": "code",
   "execution_count": 42,
   "id": "7ac9e4b5",
   "metadata": {},
   "outputs": [
    {
     "data": {
      "text/html": [
       "<style>.container { width:90% !important; }</style>"
      ],
      "text/plain": [
       "<IPython.core.display.HTML object>"
      ]
     },
     "metadata": {},
     "output_type": "display_data"
    }
   ],
   "source": [
    "from IPython.core.display import display, HTML\n",
    "display(HTML(\"<style>.container { width:90% !important; }</style>\"))"
   ]
  },
  {
   "cell_type": "code",
   "execution_count": 3,
   "id": "d6ba814c",
   "metadata": {},
   "outputs": [],
   "source": [
    "%matplotlib inline\n",
    "pd.set_option('mode.chained_assignment',None)\n",
    "pd.options.display.max_columns = 50\n",
    "pd.set_option('display.max_columns', 500)"
   ]
  },
  {
   "cell_type": "code",
   "execution_count": 4,
   "id": "3d3c5c79",
   "metadata": {
    "scrolled": true
   },
   "outputs": [],
   "source": [
    "#has dups, 1183 ---> 1100 without dups\n",
    "df = pd.read_csv('Reassigments  March to Sept 2022 - Sheet1.csv')"
   ]
  },
  {
   "cell_type": "code",
   "execution_count": 5,
   "id": "0398624a",
   "metadata": {},
   "outputs": [
    {
     "data": {
      "text/plain": [
       "array(['Gender Preference', 'Provider/Therapist Performance',\n",
       "       'State Change', 'Provider/Therapist Termed', 'Reactivation',\n",
       "       'General Fit', 'Scheduling Conflict', 'Racial Preference',\n",
       "       'LGBTQ+', 'scheduling Conflict', 'timekit', 'General fit',\n",
       "       'State change', 'State Chage', 'Insurance', 'Timekit Issue',\n",
       "       'Vacation ', 'Reactivation ', 'Medication added',\n",
       "       'Cancelled due to access issue', 'State CHange', 'Added Therapy ',\n",
       "       'LGBTQ', 'General Fit ', 'General fit ', nan,\n",
       "       'Racial/Gender Prefernce ', 'general fit', 'Gender Prefernce',\n",
       "       'General Preference ', 'Insurance Issue', 'State Change ',\n",
       "       'General preference ', 'Added Medication', 'reactivation',\n",
       "       'Gender', 'Added Therapy', 'added RX',\n",
       "       'Provider / Therapist Termed', 'Ethnicity Preference',\n",
       "       'Added Mediaction', 'Added RX', 'New Sign up', 'added Therapy ',\n",
       "       'added Therapy', 'Added Therapsy ', 'Provider Sick',\n",
       "       'Other (see notes)', 'Scheduling Issue', 'Performance Issue',\n",
       "       'Reactivation (back to same provider)', 'Race/Ethnicity'],\n",
       "      dtype=object)"
      ]
     },
     "execution_count": 5,
     "metadata": {},
     "output_type": "execute_result"
    }
   ],
   "source": [
    "df['Reason'].unique()"
   ]
  },
  {
   "cell_type": "code",
   "execution_count": 6,
   "id": "9746fd8d",
   "metadata": {
    "scrolled": true
   },
   "outputs": [],
   "source": [
    "df['Reason'] = df['Reason'].str.lower().str.strip()"
   ]
  },
  {
   "cell_type": "code",
   "execution_count": 7,
   "id": "af2085b5",
   "metadata": {
    "scrolled": true
   },
   "outputs": [],
   "source": [
    "#cleaning reasons\n",
    "df['Reason'] = df['Reason'].replace(['general preference','race/ethnicity','ethnicity preference','gender preference','racial/gender prefernce','gender','gender prefernce','racial preference'],'racial/gender preferences')\n",
    "df['Reason'] = df['Reason'].replace(['provider / therapist termed','insurance issue','added therapsy','added medication','timekit','lgbtq+','state chage'],['provider/therapist termed','insurance','added therapy','added rx','timekit issue','lgbtq','state change'])\n",
    "df['Reason'] = df['Reason'].replace(['added therapy','medication added','added mediaction','added rx'],'added medication/therapy')\n",
    "df['Reason'] = df['Reason'].replace(['new sign up',\"reactivation (back to same provider)\"],'reactivation')\n",
    "df['Reason'] = df['Reason'].replace(['vacation','provider sick','scheduling issue','scheduling issue','cancelled due to access issue','scheduling conflict'],'scheduling issues')\n",
    "df['Date'] = df['Date'].replace(['6/17/2021','9/27/2021','8/3/1022'],['6/17/2022','9/27/2022','8/3/2022'])"
   ]
  },
  {
   "cell_type": "code",
   "execution_count": 8,
   "id": "5c8ad42a",
   "metadata": {},
   "outputs": [],
   "source": [
    "df.rename(columns={'Date':'date','Case ID':'case_id','Reason': 'reason','Provider or Therapist?':'practitioner_type'}, inplace = True)"
   ]
  },
  {
   "cell_type": "code",
   "execution_count": 9,
   "id": "6605e644",
   "metadata": {},
   "outputs": [
    {
     "data": {
      "text/plain": [
       "array(['racial/gender preferences', 'provider/therapist performance',\n",
       "       'state change', 'provider/therapist termed', 'reactivation',\n",
       "       'general fit', 'scheduling issues', 'lgbtq', 'timekit issue',\n",
       "       'insurance', 'added medication/therapy', nan, 'other (see notes)',\n",
       "       'performance issue'], dtype=object)"
      ]
     },
     "execution_count": 9,
     "metadata": {},
     "output_type": "execute_result"
    }
   ],
   "source": [
    "df['reason'].unique()"
   ]
  },
  {
   "cell_type": "code",
   "execution_count": 10,
   "id": "d1e9c2e2",
   "metadata": {},
   "outputs": [],
   "source": [
    "df['date'] = pd.to_datetime(df['date'])"
   ]
  },
  {
   "cell_type": "code",
   "execution_count": 11,
   "id": "97e04d31",
   "metadata": {},
   "outputs": [],
   "source": [
    "#needed to import to database to join tables. analytics doesnt have an instance yet so tables take hours to load in local host\n",
    "#df.to_csv('reassignments_cleansed.csv', index = False)"
   ]
  },
  {
   "cell_type": "code",
   "execution_count": 12,
   "id": "7de59f73",
   "metadata": {},
   "outputs": [],
   "source": [
    "df = pd.read_csv('reassignments_cleansed.csv')"
   ]
  },
  {
   "cell_type": "code",
   "execution_count": 13,
   "id": "4a5a606b",
   "metadata": {},
   "outputs": [],
   "source": [
    "df['before_reassignment_total_bookings_showed_medication'].fillna(0, inplace=True)\n",
    "df['before_reassignment_total_bookings_showed_therapy'].fillna(0, inplace=True)"
   ]
  },
  {
   "cell_type": "code",
   "execution_count": 14,
   "id": "7eba4fb9",
   "metadata": {
    "scrolled": true
   },
   "outputs": [
    {
     "data": {
      "text/plain": [
       "array(['Provider', 'Therapist', 'Both', nan, 'Provider / Therapist',\n",
       "       'Provider / therapist', 'Provider/Therapist',\n",
       "       'Both (Provider and Therapist)', 'Therapsit'], dtype=object)"
      ]
     },
     "execution_count": 14,
     "metadata": {},
     "output_type": "execute_result"
    }
   ],
   "source": [
    "df['practitioner_type'].unique()"
   ]
  },
  {
   "cell_type": "code",
   "execution_count": 15,
   "id": "307e1bf1",
   "metadata": {},
   "outputs": [],
   "source": [
    "df['practitioner_type'] = df['practitioner_type'].replace(['Therapsit'],'Therapist')\n",
    "df['practitioner_type'] = df['practitioner_type'].replace(['Provider / Therapist','Provider/Therapist',\"Both (Provider and Therapist)\",\"Provider / therapist\"],'Both')\n",
    "df.loc[(df['practitioner_type']== 'Both') & (df['first_medication_booking_showed_date'].notnull()) & (df['first_therapy_booking_showed_date'].isnull()),'practitioner_type'] = 'Provider'\n",
    "df.loc[(df['practitioner_type'].isnull()) & (df['first_medication_booking_showed_date'].notnull()) & (df['first_therapy_booking_showed_date'].isnull()),'practitioner_type'] = 'Provider'\n",
    "df.loc[(df['practitioner_type']== 'Both') & (df['first_medication_booking_showed_date'].isnull()) & (df['first_therapy_booking_showed_date'].notnull()),'practitioner_type'] = 'Therapist'\n",
    "df.loc[(df['practitioner_type'].isnull()) & (df['first_medication_booking_showed_date'].isnull()) & (df['first_therapy_booking_showed_date'].notnull()),'practitioner_type'] = 'Therapist'\n",
    "df.loc[(df['practitioner_type']=='Both') &(df['first_therapy_booking_showed_date'].isnull()) & (df['first_medication_booking_showed_date'].isnull()) & (df['last_provider_id_assigned'].isnull()) & (df['last_therapist_id_assigned'].notnull()),'practitioner_type'] = 'Therapist'\n",
    "df.loc[(df['practitioner_type']=='Both') &(df['first_therapy_booking_showed_date'].isnull()) & (df['first_medication_booking_showed_date'].isnull()) & (df['last_provider_id_assigned'].notnull()) & (df['last_therapist_id_assigned'].isnull()),'practitioner_type'] = 'Provider'\n",
    "df.loc[(df['practitioner_type'].isnull()) &(df['first_therapy_booking_showed_date'].isnull()) & (df['first_medication_booking_showed_date'].isnull()) & (df['last_provider_id_assigned'].isnull()) & (df['last_therapist_id_assigned'].notnull()),'practitioner_type'] = 'Therapist'\n",
    "df.loc[(df['practitioner_type'].isnull()) &(df['first_therapy_booking_showed_date'].isnull()) & (df['first_medication_booking_showed_date'].isnull()) & (df['last_provider_id_assigned'].notnull()) & (df['last_therapist_id_assigned'].isnull()),'practitioner_type'] = 'Provider'"
   ]
  },
  {
   "cell_type": "code",
   "execution_count": 16,
   "id": "2a630633",
   "metadata": {},
   "outputs": [
    {
     "data": {
      "text/plain": [
       "array(['Provider', 'Therapist', 'Both', 'Unknown'], dtype=object)"
      ]
     },
     "execution_count": 16,
     "metadata": {},
     "output_type": "execute_result"
    }
   ],
   "source": [
    "df['value'] = 1 \n",
    "df.loc[df['practitioner_type'].isnull(),'practitioner_type'] = 'Unknown'\n",
    "df['practitioner_type'].unique()"
   ]
  },
  {
   "cell_type": "code",
   "execution_count": 17,
   "id": "17460926",
   "metadata": {},
   "outputs": [
    {
     "data": {
      "text/html": [
       "<div>\n",
       "<style scoped>\n",
       "    .dataframe tbody tr th:only-of-type {\n",
       "        vertical-align: middle;\n",
       "    }\n",
       "\n",
       "    .dataframe tbody tr th {\n",
       "        vertical-align: top;\n",
       "    }\n",
       "\n",
       "    .dataframe thead th {\n",
       "        text-align: right;\n",
       "    }\n",
       "</style>\n",
       "<table border=\"1\" class=\"dataframe\">\n",
       "  <thead>\n",
       "    <tr style=\"text-align: right;\">\n",
       "      <th>practitioner_type</th>\n",
       "      <th>Both</th>\n",
       "      <th>Provider</th>\n",
       "      <th>Therapist</th>\n",
       "      <th>Unknown</th>\n",
       "      <th>All</th>\n",
       "    </tr>\n",
       "    <tr>\n",
       "      <th>reason</th>\n",
       "      <th></th>\n",
       "      <th></th>\n",
       "      <th></th>\n",
       "      <th></th>\n",
       "      <th></th>\n",
       "    </tr>\n",
       "  </thead>\n",
       "  <tbody>\n",
       "    <tr>\n",
       "      <th>Unknown</th>\n",
       "      <td>0.0</td>\n",
       "      <td>1.0</td>\n",
       "      <td>0.0</td>\n",
       "      <td>0.0</td>\n",
       "      <td>1</td>\n",
       "    </tr>\n",
       "    <tr>\n",
       "      <th>added medication/therapy</th>\n",
       "      <td>0.0</td>\n",
       "      <td>8.0</td>\n",
       "      <td>35.0</td>\n",
       "      <td>0.0</td>\n",
       "      <td>43</td>\n",
       "    </tr>\n",
       "    <tr>\n",
       "      <th>general fit</th>\n",
       "      <td>1.0</td>\n",
       "      <td>103.0</td>\n",
       "      <td>153.0</td>\n",
       "      <td>24.0</td>\n",
       "      <td>281</td>\n",
       "    </tr>\n",
       "    <tr>\n",
       "      <th>insurance</th>\n",
       "      <td>1.0</td>\n",
       "      <td>4.0</td>\n",
       "      <td>1.0</td>\n",
       "      <td>0.0</td>\n",
       "      <td>6</td>\n",
       "    </tr>\n",
       "    <tr>\n",
       "      <th>lgbtq</th>\n",
       "      <td>0.0</td>\n",
       "      <td>0.0</td>\n",
       "      <td>3.0</td>\n",
       "      <td>1.0</td>\n",
       "      <td>4</td>\n",
       "    </tr>\n",
       "    <tr>\n",
       "      <th>other (see notes)</th>\n",
       "      <td>1.0</td>\n",
       "      <td>9.0</td>\n",
       "      <td>17.0</td>\n",
       "      <td>0.0</td>\n",
       "      <td>27</td>\n",
       "    </tr>\n",
       "    <tr>\n",
       "      <th>performance issue</th>\n",
       "      <td>0.0</td>\n",
       "      <td>5.0</td>\n",
       "      <td>2.0</td>\n",
       "      <td>0.0</td>\n",
       "      <td>7</td>\n",
       "    </tr>\n",
       "    <tr>\n",
       "      <th>provider/therapist performance</th>\n",
       "      <td>1.0</td>\n",
       "      <td>65.0</td>\n",
       "      <td>42.0</td>\n",
       "      <td>9.0</td>\n",
       "      <td>117</td>\n",
       "    </tr>\n",
       "    <tr>\n",
       "      <th>provider/therapist termed</th>\n",
       "      <td>0.0</td>\n",
       "      <td>17.0</td>\n",
       "      <td>19.0</td>\n",
       "      <td>2.0</td>\n",
       "      <td>38</td>\n",
       "    </tr>\n",
       "    <tr>\n",
       "      <th>racial/gender preferences</th>\n",
       "      <td>0.0</td>\n",
       "      <td>38.0</td>\n",
       "      <td>73.0</td>\n",
       "      <td>8.0</td>\n",
       "      <td>119</td>\n",
       "    </tr>\n",
       "    <tr>\n",
       "      <th>reactivation</th>\n",
       "      <td>2.0</td>\n",
       "      <td>36.0</td>\n",
       "      <td>62.0</td>\n",
       "      <td>11.0</td>\n",
       "      <td>111</td>\n",
       "    </tr>\n",
       "    <tr>\n",
       "      <th>scheduling issues</th>\n",
       "      <td>1.0</td>\n",
       "      <td>78.0</td>\n",
       "      <td>92.0</td>\n",
       "      <td>13.0</td>\n",
       "      <td>184</td>\n",
       "    </tr>\n",
       "    <tr>\n",
       "      <th>state change</th>\n",
       "      <td>35.0</td>\n",
       "      <td>97.0</td>\n",
       "      <td>21.0</td>\n",
       "      <td>6.0</td>\n",
       "      <td>159</td>\n",
       "    </tr>\n",
       "    <tr>\n",
       "      <th>timekit issue</th>\n",
       "      <td>0.0</td>\n",
       "      <td>11.0</td>\n",
       "      <td>1.0</td>\n",
       "      <td>1.0</td>\n",
       "      <td>13</td>\n",
       "    </tr>\n",
       "    <tr>\n",
       "      <th>All</th>\n",
       "      <td>42.0</td>\n",
       "      <td>472.0</td>\n",
       "      <td>521.0</td>\n",
       "      <td>75.0</td>\n",
       "      <td>1110</td>\n",
       "    </tr>\n",
       "  </tbody>\n",
       "</table>\n",
       "</div>"
      ],
      "text/plain": [
       "practitioner_type               Both  Provider  Therapist  Unknown   All\n",
       "reason                                                                  \n",
       "Unknown                          0.0       1.0        0.0      0.0     1\n",
       "added medication/therapy         0.0       8.0       35.0      0.0    43\n",
       "general fit                      1.0     103.0      153.0     24.0   281\n",
       "insurance                        1.0       4.0        1.0      0.0     6\n",
       "lgbtq                            0.0       0.0        3.0      1.0     4\n",
       "other (see notes)                1.0       9.0       17.0      0.0    27\n",
       "performance issue                0.0       5.0        2.0      0.0     7\n",
       "provider/therapist performance   1.0      65.0       42.0      9.0   117\n",
       "provider/therapist termed        0.0      17.0       19.0      2.0    38\n",
       "racial/gender preferences        0.0      38.0       73.0      8.0   119\n",
       "reactivation                     2.0      36.0       62.0     11.0   111\n",
       "scheduling issues                1.0      78.0       92.0     13.0   184\n",
       "state change                    35.0      97.0       21.0      6.0   159\n",
       "timekit issue                    0.0      11.0        1.0      1.0    13\n",
       "All                             42.0     472.0      521.0     75.0  1110"
      ]
     },
     "execution_count": 17,
     "metadata": {},
     "output_type": "execute_result"
    }
   ],
   "source": [
    "df['subscriber_last_plan_type'].fillna('Unknown', inplace = True)\n",
    "df['reason'].fillna('Unknown', inplace = True)\n",
    "reasons_summary = pd.pivot_table(data=df,index='reason',aggfunc='count',columns = (['practitioner_type']), values = 'value', margins=True)\n",
    "reasons_summary.fillna(0, inplace = True)\n",
    "reasons_summary"
   ]
  },
  {
   "cell_type": "code",
   "execution_count": 18,
   "id": "1f39bd8a",
   "metadata": {},
   "outputs": [
    {
     "data": {
      "text/plain": [
       "0"
      ]
     },
     "execution_count": 18,
     "metadata": {},
     "output_type": "execute_result"
    }
   ],
   "source": [
    "sum(df['practitioner_type'].isnull())"
   ]
  },
  {
   "cell_type": "code",
   "execution_count": 19,
   "id": "a214964e",
   "metadata": {},
   "outputs": [
    {
     "data": {
      "text/plain": [
       "42"
      ]
     },
     "execution_count": 19,
     "metadata": {},
     "output_type": "execute_result"
    }
   ],
   "source": [
    "sum(df['practitioner_type']=='Both')"
   ]
  },
  {
   "cell_type": "code",
   "execution_count": 20,
   "id": "1253022c",
   "metadata": {},
   "outputs": [],
   "source": [
    "df['reassignment_date'] = pd.to_datetime(df['reassignment_date'])\n",
    "df['first_booking_showed_date_all'] = pd.to_datetime(df['first_booking_showed_date_all'])\n",
    "df['last_canceled_plan_timestamp'] = pd.to_datetime(df['last_canceled_plan_timestamp'])\n",
    "df['most_recent_booking_after_reassignment_date'] = pd.to_datetime(df['most_recent_booking_after_reassignment_date'])"
   ]
  },
  {
   "cell_type": "code",
   "execution_count": 21,
   "id": "7f844c24",
   "metadata": {},
   "outputs": [],
   "source": [
    "df['days_since_reassignment_to_plan_cancellation'] = df['last_canceled_plan_timestamp'] - df['reassignment_date']\n",
    "df['days_since_reassignment_to_plan_cancellation'] = df['days_since_reassignment_to_plan_cancellation'].dt.days\n",
    "df['days_since_reassignment_to_booking_start'] = df['most_recent_booking_after_reassignment_date'] - df['reassignment_date']\n",
    "df['days_since_reassignment_to_booking_start'] = df['days_since_reassignment_to_booking_start'].dt.days"
   ]
  },
  {
   "cell_type": "code",
   "execution_count": 22,
   "id": "179de780",
   "metadata": {},
   "outputs": [],
   "source": [
    "df['cancellation_after_reassignment_flag'] = df['reassignment_date'] <= df['last_canceled_plan_timestamp']"
   ]
  },
  {
   "cell_type": "code",
   "execution_count": 23,
   "id": "84abf56f",
   "metadata": {},
   "outputs": [
    {
     "data": {
      "text/plain": [
       "False    827\n",
       "True     283\n",
       "Name: cancellation_after_reassignment_flag, dtype: int64"
      ]
     },
     "execution_count": 23,
     "metadata": {},
     "output_type": "execute_result"
    }
   ],
   "source": [
    "df['cancellation_after_reassignment_flag'].value_counts()"
   ]
  },
  {
   "cell_type": "code",
   "execution_count": 24,
   "id": "86cf6792",
   "metadata": {},
   "outputs": [],
   "source": [
    "#booking cancellations on or after reassignment date but before most recent booking date after reassigntment date\n",
    "#if most_recent_booking_after_reassignment_date is null then and booking_cancallation received on or after reassignment date then a visit was cancelled \n",
    "df.loc[df['booking_status_cancellation_considered'].notnull(),'has_booking_after_reassignment'] = True\n",
    "df.loc[df['booking_status_cancellation_considered'].isnull(),'has_booking_after_reassignment'] = False"
   ]
  },
  {
   "cell_type": "code",
   "execution_count": 25,
   "id": "55635748",
   "metadata": {},
   "outputs": [
    {
     "data": {
      "text/plain": [
       "True     1007\n",
       "False     103\n",
       "Name: has_booking_after_reassignment, dtype: int64"
      ]
     },
     "execution_count": 25,
     "metadata": {},
     "output_type": "execute_result"
    }
   ],
   "source": [
    "df['has_booking_after_reassignment'].value_counts()"
   ]
  },
  {
   "cell_type": "code",
   "execution_count": 26,
   "id": "c07d3f4c",
   "metadata": {},
   "outputs": [
    {
     "data": {
      "text/plain": [
       "resolved       582\n",
       "confirmed      123\n",
       "cancelled      104\n",
       "no-showed       94\n",
       "rescheduled     18\n",
       "showed           4\n",
       "Name: booking_status_cancellation_considered, dtype: int64"
      ]
     },
     "execution_count": 26,
     "metadata": {},
     "output_type": "execute_result"
    }
   ],
   "source": [
    "#filtered booking start before 9/25 because > 9/25 has not matured yet aka outcomes still not loaded to database\n",
    "bookings = df.loc[(df['has_booking_after_reassignment']== True) & (df['most_recent_booking_after_reassignment_date'] < '2022-09-25')]\n",
    "bookings['booking_status_cancellation_considered'].value_counts()"
   ]
  },
  {
   "cell_type": "code",
   "execution_count": 27,
   "id": "d802cbac",
   "metadata": {},
   "outputs": [],
   "source": [
    "bookings.loc[bookings['booking_status_cancellation_considered'].isin(['resolved','showed']),'booking_status_cancellation_considered'] = 'resolved/showed'\n",
    "bookings.loc[bookings['booking_status_cancellation_considered'].isin(['cancelled','confirmed','rescheduled','no-showed']),'booking_status_cancellation_considered'] = 'cancelled/confirmed/rescheduled/no-showed'"
   ]
  },
  {
   "cell_type": "code",
   "execution_count": 28,
   "id": "4d499f88",
   "metadata": {},
   "outputs": [
    {
     "data": {
      "text/plain": [
       "resolved/showed                              586\n",
       "cancelled/confirmed/rescheduled/no-showed    339\n",
       "Name: booking_status_cancellation_considered, dtype: int64"
      ]
     },
     "execution_count": 28,
     "metadata": {},
     "output_type": "execute_result"
    }
   ],
   "source": [
    "bookings['booking_status_cancellation_considered'].value_counts()"
   ]
  },
  {
   "cell_type": "code",
   "execution_count": 29,
   "id": "51c75ae9",
   "metadata": {},
   "outputs": [
    {
     "data": {
      "image/png": "[encoded data removed]",
      "text/plain": [
       "<Figure size 576x360 with 1 Axes>"
      ]
     },
     "metadata": {
      "needs_background": "light"
     },
     "output_type": "display_data"
    }
   ],
   "source": [
    "#majority of members still book within 15 days after being reassigned\n",
    "plt.figure(figsize=(8,5))\n",
    "bs_fig = sns.histplot(x='days_since_reassignment_to_booking_start',data=bookings,color = 'red')\n",
    "bs_fig.set_xlim(0,45)\n",
    "plt.tight_layout()"
   ]
  },
  {
   "cell_type": "code",
   "execution_count": 30,
   "id": "906d8a3f",
   "metadata": {},
   "outputs": [],
   "source": [
    "bookings.loc[bookings['booking_status_cancellation_considered'] == 'cancelled/confirmed/rescheduled/no-showed','cancelled/confirmed/rescheduled/no-showed'] = 1 \n",
    "bookings.loc[bookings['booking_status_cancellation_considered'] != 'cancelled/confirmed/rescheduled/no-showed','cancelled/confirmed/rescheduled/no-showed'] = 0 \n",
    "bookings.loc[bookings['booking_status_cancellation_considered'] == 'resolved/showed','resolved/showed']= 1\n",
    "bookings.loc[bookings['booking_status_cancellation_considered'] != 'resolved/showed','resolved/showed']= 0\n",
    "bookings.loc[bookings['practitioner_type'].isnull(),'practitioner_type'] = 'Unknown'"
   ]
  },
  {
   "cell_type": "code",
   "execution_count": 31,
   "id": "26a0e199",
   "metadata": {
    "scrolled": true
   },
   "outputs": [],
   "source": [
    "bookings_outcomes = pd.pivot_table(bookings,index = ['practitioner_type'],aggfunc = 'sum',values = ['cancelled/confirmed/rescheduled/no-showed','resolved/showed'], margins = True)"
   ]
  },
  {
   "cell_type": "code",
   "execution_count": 32,
   "id": "57976b20",
   "metadata": {
    "scrolled": true
   },
   "outputs": [
    {
     "data": {
      "text/html": [
       "<div>\n",
       "<style scoped>\n",
       "    .dataframe tbody tr th:only-of-type {\n",
       "        vertical-align: middle;\n",
       "    }\n",
       "\n",
       "    .dataframe tbody tr th {\n",
       "        vertical-align: top;\n",
       "    }\n",
       "\n",
       "    .dataframe thead th {\n",
       "        text-align: right;\n",
       "    }\n",
       "</style>\n",
       "<table border=\"1\" class=\"dataframe\">\n",
       "  <thead>\n",
       "    <tr style=\"text-align: right;\">\n",
       "      <th></th>\n",
       "      <th>cancelled/confirmed/rescheduled/no-showed</th>\n",
       "      <th>resolved/showed</th>\n",
       "      <th>total_visits</th>\n",
       "      <th>completion_pct</th>\n",
       "      <th>incompletion_pct</th>\n",
       "    </tr>\n",
       "    <tr>\n",
       "      <th>practitioner_type</th>\n",
       "      <th></th>\n",
       "      <th></th>\n",
       "      <th></th>\n",
       "      <th></th>\n",
       "      <th></th>\n",
       "    </tr>\n",
       "  </thead>\n",
       "  <tbody>\n",
       "    <tr>\n",
       "      <th>Both</th>\n",
       "      <td>17.0</td>\n",
       "      <td>20.0</td>\n",
       "      <td>37.0</td>\n",
       "      <td>0.540541</td>\n",
       "      <td>0.459459</td>\n",
       "    </tr>\n",
       "    <tr>\n",
       "      <th>Provider</th>\n",
       "      <td>139.0</td>\n",
       "      <td>268.0</td>\n",
       "      <td>407.0</td>\n",
       "      <td>0.658477</td>\n",
       "      <td>0.341523</td>\n",
       "    </tr>\n",
       "    <tr>\n",
       "      <th>Therapist</th>\n",
       "      <td>154.0</td>\n",
       "      <td>256.0</td>\n",
       "      <td>410.0</td>\n",
       "      <td>0.624390</td>\n",
       "      <td>0.375610</td>\n",
       "    </tr>\n",
       "    <tr>\n",
       "      <th>Unknown</th>\n",
       "      <td>29.0</td>\n",
       "      <td>42.0</td>\n",
       "      <td>71.0</td>\n",
       "      <td>0.591549</td>\n",
       "      <td>0.408451</td>\n",
       "    </tr>\n",
       "    <tr>\n",
       "      <th>All</th>\n",
       "      <td>339.0</td>\n",
       "      <td>586.0</td>\n",
       "      <td>925.0</td>\n",
       "      <td>0.633514</td>\n",
       "      <td>0.366486</td>\n",
       "    </tr>\n",
       "  </tbody>\n",
       "</table>\n",
       "</div>"
      ],
      "text/plain": [
       "                   cancelled/confirmed/rescheduled/no-showed  resolved/showed  \\\n",
       "practitioner_type                                                               \n",
       "Both                                                    17.0             20.0   \n",
       "Provider                                               139.0            268.0   \n",
       "Therapist                                              154.0            256.0   \n",
       "Unknown                                                 29.0             42.0   \n",
       "All                                                    339.0            586.0   \n",
       "\n",
       "                   total_visits  completion_pct  incompletion_pct  \n",
       "practitioner_type                                                  \n",
       "Both                       37.0        0.540541          0.459459  \n",
       "Provider                  407.0        0.658477          0.341523  \n",
       "Therapist                 410.0        0.624390          0.375610  \n",
       "Unknown                    71.0        0.591549          0.408451  \n",
       "All                       925.0        0.633514          0.366486  "
      ]
     },
     "execution_count": 32,
     "metadata": {},
     "output_type": "execute_result"
    }
   ],
   "source": [
    "bookings_outcomes['total_visits'] = bookings_outcomes['cancelled/confirmed/rescheduled/no-showed'] + bookings_outcomes['resolved/showed']\n",
    "bookings_outcomes['completion_pct'] = bookings_outcomes['resolved/showed'] / bookings_outcomes['total_visits']\n",
    "bookings_outcomes['incompletion_pct'] = bookings_outcomes['cancelled/confirmed/rescheduled/no-showed'] / bookings_outcomes['total_visits']\n",
    "bookings_outcomes"
   ]
  },
  {
   "cell_type": "code",
   "execution_count": 33,
   "id": "6f734d7b",
   "metadata": {},
   "outputs": [
    {
     "data": {
      "text/html": [
       "<div>\n",
       "<style scoped>\n",
       "    .dataframe tbody tr th:only-of-type {\n",
       "        vertical-align: middle;\n",
       "    }\n",
       "\n",
       "    .dataframe tbody tr th {\n",
       "        vertical-align: top;\n",
       "    }\n",
       "\n",
       "    .dataframe thead th {\n",
       "        text-align: right;\n",
       "    }\n",
       "</style>\n",
       "<table border=\"1\" class=\"dataframe\">\n",
       "  <thead>\n",
       "    <tr style=\"text-align: right;\">\n",
       "      <th></th>\n",
       "      <th>cancelled/confirmed/rescheduled/no-showed</th>\n",
       "      <th>resolved/showed</th>\n",
       "      <th>total_visits</th>\n",
       "      <th>completion_pct</th>\n",
       "      <th>incompletion_pct</th>\n",
       "    </tr>\n",
       "    <tr>\n",
       "      <th>reason</th>\n",
       "      <th></th>\n",
       "      <th></th>\n",
       "      <th></th>\n",
       "      <th></th>\n",
       "      <th></th>\n",
       "    </tr>\n",
       "  </thead>\n",
       "  <tbody>\n",
       "    <tr>\n",
       "      <th>Unknown</th>\n",
       "      <td>0.0</td>\n",
       "      <td>1.0</td>\n",
       "      <td>1.0</td>\n",
       "      <td>1.000000</td>\n",
       "      <td>0.000000</td>\n",
       "    </tr>\n",
       "    <tr>\n",
       "      <th>added medication/therapy</th>\n",
       "      <td>14.0</td>\n",
       "      <td>25.0</td>\n",
       "      <td>39.0</td>\n",
       "      <td>0.641026</td>\n",
       "      <td>0.358974</td>\n",
       "    </tr>\n",
       "    <tr>\n",
       "      <th>general fit</th>\n",
       "      <td>79.0</td>\n",
       "      <td>146.0</td>\n",
       "      <td>225.0</td>\n",
       "      <td>0.648889</td>\n",
       "      <td>0.351111</td>\n",
       "    </tr>\n",
       "    <tr>\n",
       "      <th>insurance</th>\n",
       "      <td>0.0</td>\n",
       "      <td>6.0</td>\n",
       "      <td>6.0</td>\n",
       "      <td>1.000000</td>\n",
       "      <td>0.000000</td>\n",
       "    </tr>\n",
       "    <tr>\n",
       "      <th>lgbtq</th>\n",
       "      <td>2.0</td>\n",
       "      <td>2.0</td>\n",
       "      <td>4.0</td>\n",
       "      <td>0.500000</td>\n",
       "      <td>0.500000</td>\n",
       "    </tr>\n",
       "    <tr>\n",
       "      <th>other (see notes)</th>\n",
       "      <td>1.0</td>\n",
       "      <td>3.0</td>\n",
       "      <td>4.0</td>\n",
       "      <td>0.750000</td>\n",
       "      <td>0.250000</td>\n",
       "    </tr>\n",
       "    <tr>\n",
       "      <th>performance issue</th>\n",
       "      <td>1.0</td>\n",
       "      <td>2.0</td>\n",
       "      <td>3.0</td>\n",
       "      <td>0.666667</td>\n",
       "      <td>0.333333</td>\n",
       "    </tr>\n",
       "    <tr>\n",
       "      <th>provider/therapist performance</th>\n",
       "      <td>34.0</td>\n",
       "      <td>69.0</td>\n",
       "      <td>103.0</td>\n",
       "      <td>0.669903</td>\n",
       "      <td>0.330097</td>\n",
       "    </tr>\n",
       "    <tr>\n",
       "      <th>provider/therapist termed</th>\n",
       "      <td>19.0</td>\n",
       "      <td>18.0</td>\n",
       "      <td>37.0</td>\n",
       "      <td>0.486486</td>\n",
       "      <td>0.513514</td>\n",
       "    </tr>\n",
       "    <tr>\n",
       "      <th>racial/gender preferences</th>\n",
       "      <td>49.0</td>\n",
       "      <td>44.0</td>\n",
       "      <td>93.0</td>\n",
       "      <td>0.473118</td>\n",
       "      <td>0.526882</td>\n",
       "    </tr>\n",
       "    <tr>\n",
       "      <th>reactivation</th>\n",
       "      <td>32.0</td>\n",
       "      <td>63.0</td>\n",
       "      <td>95.0</td>\n",
       "      <td>0.663158</td>\n",
       "      <td>0.336842</td>\n",
       "    </tr>\n",
       "    <tr>\n",
       "      <th>scheduling issues</th>\n",
       "      <td>55.0</td>\n",
       "      <td>107.0</td>\n",
       "      <td>162.0</td>\n",
       "      <td>0.660494</td>\n",
       "      <td>0.339506</td>\n",
       "    </tr>\n",
       "    <tr>\n",
       "      <th>state change</th>\n",
       "      <td>47.0</td>\n",
       "      <td>94.0</td>\n",
       "      <td>141.0</td>\n",
       "      <td>0.666667</td>\n",
       "      <td>0.333333</td>\n",
       "    </tr>\n",
       "    <tr>\n",
       "      <th>timekit issue</th>\n",
       "      <td>6.0</td>\n",
       "      <td>6.0</td>\n",
       "      <td>12.0</td>\n",
       "      <td>0.500000</td>\n",
       "      <td>0.500000</td>\n",
       "    </tr>\n",
       "    <tr>\n",
       "      <th>All</th>\n",
       "      <td>339.0</td>\n",
       "      <td>586.0</td>\n",
       "      <td>925.0</td>\n",
       "      <td>0.633514</td>\n",
       "      <td>0.366486</td>\n",
       "    </tr>\n",
       "  </tbody>\n",
       "</table>\n",
       "</div>"
      ],
      "text/plain": [
       "                                cancelled/confirmed/rescheduled/no-showed  \\\n",
       "reason                                                                      \n",
       "Unknown                                                               0.0   \n",
       "added medication/therapy                                             14.0   \n",
       "general fit                                                          79.0   \n",
       "insurance                                                             0.0   \n",
       "lgbtq                                                                 2.0   \n",
       "other (see notes)                                                     1.0   \n",
       "performance issue                                                     1.0   \n",
       "provider/therapist performance                                       34.0   \n",
       "provider/therapist termed                                            19.0   \n",
       "racial/gender preferences                                            49.0   \n",
       "reactivation                                                         32.0   \n",
       "scheduling issues                                                    55.0   \n",
       "state change                                                         47.0   \n",
       "timekit issue                                                         6.0   \n",
       "All                                                                 339.0   \n",
       "\n",
       "                                resolved/showed  total_visits  completion_pct  \\\n",
       "reason                                                                          \n",
       "Unknown                                     1.0           1.0        1.000000   \n",
       "added medication/therapy                   25.0          39.0        0.641026   \n",
       "general fit                               146.0         225.0        0.648889   \n",
       "insurance                                   6.0           6.0        1.000000   \n",
       "lgbtq                                       2.0           4.0        0.500000   \n",
       "other (see notes)                           3.0           4.0        0.750000   \n",
       "performance issue                           2.0           3.0        0.666667   \n",
       "provider/therapist performance             69.0         103.0        0.669903   \n",
       "provider/therapist termed                  18.0          37.0        0.486486   \n",
       "racial/gender preferences                  44.0          93.0        0.473118   \n",
       "reactivation                               63.0          95.0        0.663158   \n",
       "scheduling issues                         107.0         162.0        0.660494   \n",
       "state change                               94.0         141.0        0.666667   \n",
       "timekit issue                               6.0          12.0        0.500000   \n",
       "All                                       586.0         925.0        0.633514   \n",
       "\n",
       "                                incompletion_pct  \n",
       "reason                                            \n",
       "Unknown                                 0.000000  \n",
       "added medication/therapy                0.358974  \n",
       "general fit                             0.351111  \n",
       "insurance                               0.000000  \n",
       "lgbtq                                   0.500000  \n",
       "other (see notes)                       0.250000  \n",
       "performance issue                       0.333333  \n",
       "provider/therapist performance          0.330097  \n",
       "provider/therapist termed               0.513514  \n",
       "racial/gender preferences               0.526882  \n",
       "reactivation                            0.336842  \n",
       "scheduling issues                       0.339506  \n",
       "state change                            0.333333  \n",
       "timekit issue                           0.500000  \n",
       "All                                     0.366486  "
      ]
     },
     "execution_count": 33,
     "metadata": {},
     "output_type": "execute_result"
    }
   ],
   "source": [
    "reasons = pd.pivot_table(bookings,index = ['reason'],aggfunc = 'sum',values = ['cancelled/confirmed/rescheduled/no-showed','resolved/showed'], margins = True)\n",
    "reasons['total_visits'] = reasons['cancelled/confirmed/rescheduled/no-showed'] + reasons['resolved/showed']\n",
    "reasons['completion_pct'] = reasons['resolved/showed'] / reasons['total_visits']\n",
    "reasons['incompletion_pct'] = reasons['cancelled/confirmed/rescheduled/no-showed'] / reasons['total_visits']\n",
    "reasons"
   ]
  },
  {
   "cell_type": "code",
   "execution_count": 34,
   "id": "76d950bb",
   "metadata": {},
   "outputs": [],
   "source": [
    "#removing all the bookings from this analysis, in the same period of time 3/4/2022 to 9/25/2022 \n",
    "#for 91367 follow-ups, the completion pct is 78.7% and the incompletion pct is 21%\n",
    "#in comparison the completion pct declined almost 20 pts, and incompletion pct increased 20 pts"
   ]
  },
  {
   "cell_type": "code",
   "execution_count": 35,
   "id": "cce4715c",
   "metadata": {},
   "outputs": [],
   "source": [
    "def bins(x):\n",
    "    if x > 10:\n",
    "        return 'd. 10+'\n",
    "    if x >5 <= 10:\n",
    "        return 'c. 6 to 10'\n",
    "    if x > 0 <= 5:\n",
    "        return 'b. 1 to 5'\n",
    "    if x == 0:\n",
    "        return 'a. 0'"
   ]
  },
  {
   "cell_type": "code",
   "execution_count": 36,
   "id": "e37c8bcd",
   "metadata": {},
   "outputs": [],
   "source": [
    "#bins of medication visit prior to reassignment date for cancellations marked as 'Provider' related\n",
    "df['medication_visits_totals'] = df['before_reassignment_total_bookings_showed_medication'].apply(lambda x: bins(x))\n",
    "#bins of therapy visit prior to reassignment date for cancellations marked as 'Therapy' related\n",
    "df['therapy_visits_totals'] = df['before_reassignment_total_bookings_showed_therapy'].apply(lambda x: bins(x))\n",
    "df['total_vists'] = df['before_reassignment_total_bookings_showed_therapy'] + df['before_reassignment_total_bookings_showed_medication']\n",
    "#bins of total visit prior to reassignment date for cancellations marked as 'Both' or 'Unknown' related\n",
    "df['total_vists'] = df['total_vists'].apply(lambda x: bins(x))"
   ]
  },
  {
   "cell_type": "code",
   "execution_count": 37,
   "id": "7cdf8e40",
   "metadata": {},
   "outputs": [],
   "source": [
    "provider_related = df.loc[df['practitioner_type'] == 'Provider']\n",
    "therapist_related = df.loc[df['practitioner_type'] == 'Therapist']\n",
    "both_or_unknown_related = df.loc[df['practitioner_type'].isin(['Unknown','Both'])]"
   ]
  },
  {
   "cell_type": "code",
   "execution_count": 38,
   "id": "30437d13",
   "metadata": {},
   "outputs": [
    {
     "data": {
      "text/plain": [
       "b. 1 to 5     792\n",
       "a. 0          262\n",
       "c. 6 to 10     51\n",
       "d. 10+          5\n",
       "Name: medication_visits_totals, dtype: int64"
      ]
     },
     "execution_count": 38,
     "metadata": {},
     "output_type": "execute_result"
    }
   ],
   "source": [
    "df['medication_visits_totals'].value_counts()"
   ]
  },
  {
   "cell_type": "code",
   "execution_count": 39,
   "id": "17127c3e",
   "metadata": {},
   "outputs": [
    {
     "data": {
      "text/html": [
       "<div>\n",
       "<style scoped>\n",
       "    .dataframe tbody tr th:only-of-type {\n",
       "        vertical-align: middle;\n",
       "    }\n",
       "\n",
       "    .dataframe tbody tr th {\n",
       "        vertical-align: top;\n",
       "    }\n",
       "\n",
       "    .dataframe thead th {\n",
       "        text-align: right;\n",
       "    }\n",
       "</style>\n",
       "<table border=\"1\" class=\"dataframe\">\n",
       "  <thead>\n",
       "    <tr style=\"text-align: right;\">\n",
       "      <th>medication_visits_totals</th>\n",
       "      <th>a. 0</th>\n",
       "      <th>b. 1 to 5</th>\n",
       "      <th>c. 6 to 10</th>\n",
       "      <th>d. 10+</th>\n",
       "      <th>All</th>\n",
       "    </tr>\n",
       "    <tr>\n",
       "      <th>reason</th>\n",
       "      <th></th>\n",
       "      <th></th>\n",
       "      <th></th>\n",
       "      <th></th>\n",
       "      <th></th>\n",
       "    </tr>\n",
       "  </thead>\n",
       "  <tbody>\n",
       "    <tr>\n",
       "      <th>Unknown</th>\n",
       "      <td>0.0</td>\n",
       "      <td>1.0</td>\n",
       "      <td>0.0</td>\n",
       "      <td>0.0</td>\n",
       "      <td>1</td>\n",
       "    </tr>\n",
       "    <tr>\n",
       "      <th>added medication/therapy</th>\n",
       "      <td>7.0</td>\n",
       "      <td>1.0</td>\n",
       "      <td>0.0</td>\n",
       "      <td>0.0</td>\n",
       "      <td>8</td>\n",
       "    </tr>\n",
       "    <tr>\n",
       "      <th>general fit</th>\n",
       "      <td>23.0</td>\n",
       "      <td>71.0</td>\n",
       "      <td>8.0</td>\n",
       "      <td>1.0</td>\n",
       "      <td>103</td>\n",
       "    </tr>\n",
       "    <tr>\n",
       "      <th>insurance</th>\n",
       "      <td>0.0</td>\n",
       "      <td>3.0</td>\n",
       "      <td>1.0</td>\n",
       "      <td>0.0</td>\n",
       "      <td>4</td>\n",
       "    </tr>\n",
       "    <tr>\n",
       "      <th>other (see notes)</th>\n",
       "      <td>4.0</td>\n",
       "      <td>5.0</td>\n",
       "      <td>0.0</td>\n",
       "      <td>0.0</td>\n",
       "      <td>9</td>\n",
       "    </tr>\n",
       "    <tr>\n",
       "      <th>performance issue</th>\n",
       "      <td>2.0</td>\n",
       "      <td>3.0</td>\n",
       "      <td>0.0</td>\n",
       "      <td>0.0</td>\n",
       "      <td>5</td>\n",
       "    </tr>\n",
       "    <tr>\n",
       "      <th>provider/therapist performance</th>\n",
       "      <td>27.0</td>\n",
       "      <td>35.0</td>\n",
       "      <td>3.0</td>\n",
       "      <td>0.0</td>\n",
       "      <td>65</td>\n",
       "    </tr>\n",
       "    <tr>\n",
       "      <th>provider/therapist termed</th>\n",
       "      <td>0.0</td>\n",
       "      <td>16.0</td>\n",
       "      <td>0.0</td>\n",
       "      <td>1.0</td>\n",
       "      <td>17</td>\n",
       "    </tr>\n",
       "    <tr>\n",
       "      <th>racial/gender preferences</th>\n",
       "      <td>18.0</td>\n",
       "      <td>18.0</td>\n",
       "      <td>2.0</td>\n",
       "      <td>0.0</td>\n",
       "      <td>38</td>\n",
       "    </tr>\n",
       "    <tr>\n",
       "      <th>reactivation</th>\n",
       "      <td>4.0</td>\n",
       "      <td>25.0</td>\n",
       "      <td>7.0</td>\n",
       "      <td>0.0</td>\n",
       "      <td>36</td>\n",
       "    </tr>\n",
       "    <tr>\n",
       "      <th>scheduling issues</th>\n",
       "      <td>20.0</td>\n",
       "      <td>53.0</td>\n",
       "      <td>5.0</td>\n",
       "      <td>0.0</td>\n",
       "      <td>78</td>\n",
       "    </tr>\n",
       "    <tr>\n",
       "      <th>state change</th>\n",
       "      <td>3.0</td>\n",
       "      <td>84.0</td>\n",
       "      <td>9.0</td>\n",
       "      <td>1.0</td>\n",
       "      <td>97</td>\n",
       "    </tr>\n",
       "    <tr>\n",
       "      <th>timekit issue</th>\n",
       "      <td>7.0</td>\n",
       "      <td>3.0</td>\n",
       "      <td>1.0</td>\n",
       "      <td>0.0</td>\n",
       "      <td>11</td>\n",
       "    </tr>\n",
       "    <tr>\n",
       "      <th>All</th>\n",
       "      <td>115.0</td>\n",
       "      <td>318.0</td>\n",
       "      <td>36.0</td>\n",
       "      <td>3.0</td>\n",
       "      <td>472</td>\n",
       "    </tr>\n",
       "  </tbody>\n",
       "</table>\n",
       "</div>"
      ],
      "text/plain": [
       "medication_visits_totals         a. 0  b. 1 to 5  c. 6 to 10  d. 10+  All\n",
       "reason                                                                   \n",
       "Unknown                           0.0        1.0         0.0     0.0    1\n",
       "added medication/therapy          7.0        1.0         0.0     0.0    8\n",
       "general fit                      23.0       71.0         8.0     1.0  103\n",
       "insurance                         0.0        3.0         1.0     0.0    4\n",
       "other (see notes)                 4.0        5.0         0.0     0.0    9\n",
       "performance issue                 2.0        3.0         0.0     0.0    5\n",
       "provider/therapist performance   27.0       35.0         3.0     0.0   65\n",
       "provider/therapist termed         0.0       16.0         0.0     1.0   17\n",
       "racial/gender preferences        18.0       18.0         2.0     0.0   38\n",
       "reactivation                      4.0       25.0         7.0     0.0   36\n",
       "scheduling issues                20.0       53.0         5.0     0.0   78\n",
       "state change                      3.0       84.0         9.0     1.0   97\n",
       "timekit issue                     7.0        3.0         1.0     0.0   11\n",
       "All                             115.0      318.0        36.0     3.0  472"
      ]
     },
     "execution_count": 39,
     "metadata": {},
     "output_type": "execute_result"
    }
   ],
   "source": [
    "#reassignments attributed to providers\n",
    "pd.pivot_table(data=provider_related,index='reason',aggfunc='count',values = 'value',columns = 'medication_visits_totals', margins = True).fillna(0)"
   ]
  },
  {
   "cell_type": "code",
   "execution_count": 40,
   "id": "5be1e4bb",
   "metadata": {},
   "outputs": [
    {
     "data": {
      "text/html": [
       "<div>\n",
       "<style scoped>\n",
       "    .dataframe tbody tr th:only-of-type {\n",
       "        vertical-align: middle;\n",
       "    }\n",
       "\n",
       "    .dataframe tbody tr th {\n",
       "        vertical-align: top;\n",
       "    }\n",
       "\n",
       "    .dataframe thead th {\n",
       "        text-align: right;\n",
       "    }\n",
       "</style>\n",
       "<table border=\"1\" class=\"dataframe\">\n",
       "  <thead>\n",
       "    <tr style=\"text-align: right;\">\n",
       "      <th>therapy_visits_totals</th>\n",
       "      <th>a. 0</th>\n",
       "      <th>b. 1 to 5</th>\n",
       "      <th>c. 6 to 10</th>\n",
       "      <th>d. 10+</th>\n",
       "      <th>All</th>\n",
       "    </tr>\n",
       "    <tr>\n",
       "      <th>reason</th>\n",
       "      <th></th>\n",
       "      <th></th>\n",
       "      <th></th>\n",
       "      <th></th>\n",
       "      <th></th>\n",
       "    </tr>\n",
       "  </thead>\n",
       "  <tbody>\n",
       "    <tr>\n",
       "      <th>added medication/therapy</th>\n",
       "      <td>26.0</td>\n",
       "      <td>7.0</td>\n",
       "      <td>2.0</td>\n",
       "      <td>0.0</td>\n",
       "      <td>35</td>\n",
       "    </tr>\n",
       "    <tr>\n",
       "      <th>general fit</th>\n",
       "      <td>37.0</td>\n",
       "      <td>96.0</td>\n",
       "      <td>13.0</td>\n",
       "      <td>7.0</td>\n",
       "      <td>153</td>\n",
       "    </tr>\n",
       "    <tr>\n",
       "      <th>insurance</th>\n",
       "      <td>0.0</td>\n",
       "      <td>1.0</td>\n",
       "      <td>0.0</td>\n",
       "      <td>0.0</td>\n",
       "      <td>1</td>\n",
       "    </tr>\n",
       "    <tr>\n",
       "      <th>lgbtq</th>\n",
       "      <td>2.0</td>\n",
       "      <td>1.0</td>\n",
       "      <td>0.0</td>\n",
       "      <td>0.0</td>\n",
       "      <td>3</td>\n",
       "    </tr>\n",
       "    <tr>\n",
       "      <th>other (see notes)</th>\n",
       "      <td>12.0</td>\n",
       "      <td>4.0</td>\n",
       "      <td>1.0</td>\n",
       "      <td>0.0</td>\n",
       "      <td>17</td>\n",
       "    </tr>\n",
       "    <tr>\n",
       "      <th>performance issue</th>\n",
       "      <td>0.0</td>\n",
       "      <td>2.0</td>\n",
       "      <td>0.0</td>\n",
       "      <td>0.0</td>\n",
       "      <td>2</td>\n",
       "    </tr>\n",
       "    <tr>\n",
       "      <th>provider/therapist performance</th>\n",
       "      <td>26.0</td>\n",
       "      <td>15.0</td>\n",
       "      <td>1.0</td>\n",
       "      <td>0.0</td>\n",
       "      <td>42</td>\n",
       "    </tr>\n",
       "    <tr>\n",
       "      <th>provider/therapist termed</th>\n",
       "      <td>3.0</td>\n",
       "      <td>8.0</td>\n",
       "      <td>5.0</td>\n",
       "      <td>3.0</td>\n",
       "      <td>19</td>\n",
       "    </tr>\n",
       "    <tr>\n",
       "      <th>racial/gender preferences</th>\n",
       "      <td>41.0</td>\n",
       "      <td>27.0</td>\n",
       "      <td>3.0</td>\n",
       "      <td>2.0</td>\n",
       "      <td>73</td>\n",
       "    </tr>\n",
       "    <tr>\n",
       "      <th>reactivation</th>\n",
       "      <td>13.0</td>\n",
       "      <td>26.0</td>\n",
       "      <td>12.0</td>\n",
       "      <td>11.0</td>\n",
       "      <td>62</td>\n",
       "    </tr>\n",
       "    <tr>\n",
       "      <th>scheduling issues</th>\n",
       "      <td>30.0</td>\n",
       "      <td>39.0</td>\n",
       "      <td>9.0</td>\n",
       "      <td>14.0</td>\n",
       "      <td>92</td>\n",
       "    </tr>\n",
       "    <tr>\n",
       "      <th>state change</th>\n",
       "      <td>5.0</td>\n",
       "      <td>10.0</td>\n",
       "      <td>3.0</td>\n",
       "      <td>3.0</td>\n",
       "      <td>21</td>\n",
       "    </tr>\n",
       "    <tr>\n",
       "      <th>timekit issue</th>\n",
       "      <td>0.0</td>\n",
       "      <td>1.0</td>\n",
       "      <td>0.0</td>\n",
       "      <td>0.0</td>\n",
       "      <td>1</td>\n",
       "    </tr>\n",
       "    <tr>\n",
       "      <th>All</th>\n",
       "      <td>195.0</td>\n",
       "      <td>237.0</td>\n",
       "      <td>49.0</td>\n",
       "      <td>40.0</td>\n",
       "      <td>521</td>\n",
       "    </tr>\n",
       "  </tbody>\n",
       "</table>\n",
       "</div>"
      ],
      "text/plain": [
       "therapy_visits_totals            a. 0  b. 1 to 5  c. 6 to 10  d. 10+  All\n",
       "reason                                                                   \n",
       "added medication/therapy         26.0        7.0         2.0     0.0   35\n",
       "general fit                      37.0       96.0        13.0     7.0  153\n",
       "insurance                         0.0        1.0         0.0     0.0    1\n",
       "lgbtq                             2.0        1.0         0.0     0.0    3\n",
       "other (see notes)                12.0        4.0         1.0     0.0   17\n",
       "performance issue                 0.0        2.0         0.0     0.0    2\n",
       "provider/therapist performance   26.0       15.0         1.0     0.0   42\n",
       "provider/therapist termed         3.0        8.0         5.0     3.0   19\n",
       "racial/gender preferences        41.0       27.0         3.0     2.0   73\n",
       "reactivation                     13.0       26.0        12.0    11.0   62\n",
       "scheduling issues                30.0       39.0         9.0    14.0   92\n",
       "state change                      5.0       10.0         3.0     3.0   21\n",
       "timekit issue                     0.0        1.0         0.0     0.0    1\n",
       "All                             195.0      237.0        49.0    40.0  521"
      ]
     },
     "execution_count": 40,
     "metadata": {},
     "output_type": "execute_result"
    }
   ],
   "source": [
    "#reassignments attributed to therapists\n",
    "pd.pivot_table(data=therapist_related,index='reason',aggfunc='count',values = 'value',columns = 'therapy_visits_totals', margins = True).fillna(0)"
   ]
  },
  {
   "cell_type": "code",
   "execution_count": 41,
   "id": "23f68c74",
   "metadata": {},
   "outputs": [
    {
     "data": {
      "text/html": [
       "<div>\n",
       "<style scoped>\n",
       "    .dataframe tbody tr th:only-of-type {\n",
       "        vertical-align: middle;\n",
       "    }\n",
       "\n",
       "    .dataframe tbody tr th {\n",
       "        vertical-align: top;\n",
       "    }\n",
       "\n",
       "    .dataframe thead th {\n",
       "        text-align: right;\n",
       "    }\n",
       "</style>\n",
       "<table border=\"1\" class=\"dataframe\">\n",
       "  <thead>\n",
       "    <tr style=\"text-align: right;\">\n",
       "      <th>total_vists</th>\n",
       "      <th>a. 0</th>\n",
       "      <th>b. 1 to 5</th>\n",
       "      <th>c. 6 to 10</th>\n",
       "      <th>d. 10+</th>\n",
       "      <th>All</th>\n",
       "    </tr>\n",
       "    <tr>\n",
       "      <th>reason</th>\n",
       "      <th></th>\n",
       "      <th></th>\n",
       "      <th></th>\n",
       "      <th></th>\n",
       "      <th></th>\n",
       "    </tr>\n",
       "  </thead>\n",
       "  <tbody>\n",
       "    <tr>\n",
       "      <th>general fit</th>\n",
       "      <td>2.0</td>\n",
       "      <td>12.0</td>\n",
       "      <td>8.0</td>\n",
       "      <td>3.0</td>\n",
       "      <td>25</td>\n",
       "    </tr>\n",
       "    <tr>\n",
       "      <th>insurance</th>\n",
       "      <td>0.0</td>\n",
       "      <td>0.0</td>\n",
       "      <td>0.0</td>\n",
       "      <td>1.0</td>\n",
       "      <td>1</td>\n",
       "    </tr>\n",
       "    <tr>\n",
       "      <th>lgbtq</th>\n",
       "      <td>1.0</td>\n",
       "      <td>0.0</td>\n",
       "      <td>0.0</td>\n",
       "      <td>0.0</td>\n",
       "      <td>1</td>\n",
       "    </tr>\n",
       "    <tr>\n",
       "      <th>other (see notes)</th>\n",
       "      <td>0.0</td>\n",
       "      <td>0.0</td>\n",
       "      <td>1.0</td>\n",
       "      <td>0.0</td>\n",
       "      <td>1</td>\n",
       "    </tr>\n",
       "    <tr>\n",
       "      <th>provider/therapist performance</th>\n",
       "      <td>4.0</td>\n",
       "      <td>5.0</td>\n",
       "      <td>0.0</td>\n",
       "      <td>1.0</td>\n",
       "      <td>10</td>\n",
       "    </tr>\n",
       "    <tr>\n",
       "      <th>provider/therapist termed</th>\n",
       "      <td>0.0</td>\n",
       "      <td>1.0</td>\n",
       "      <td>1.0</td>\n",
       "      <td>0.0</td>\n",
       "      <td>2</td>\n",
       "    </tr>\n",
       "    <tr>\n",
       "      <th>racial/gender preferences</th>\n",
       "      <td>5.0</td>\n",
       "      <td>1.0</td>\n",
       "      <td>1.0</td>\n",
       "      <td>1.0</td>\n",
       "      <td>8</td>\n",
       "    </tr>\n",
       "    <tr>\n",
       "      <th>reactivation</th>\n",
       "      <td>0.0</td>\n",
       "      <td>10.0</td>\n",
       "      <td>0.0</td>\n",
       "      <td>3.0</td>\n",
       "      <td>13</td>\n",
       "    </tr>\n",
       "    <tr>\n",
       "      <th>scheduling issues</th>\n",
       "      <td>2.0</td>\n",
       "      <td>8.0</td>\n",
       "      <td>1.0</td>\n",
       "      <td>3.0</td>\n",
       "      <td>14</td>\n",
       "    </tr>\n",
       "    <tr>\n",
       "      <th>state change</th>\n",
       "      <td>2.0</td>\n",
       "      <td>17.0</td>\n",
       "      <td>13.0</td>\n",
       "      <td>9.0</td>\n",
       "      <td>41</td>\n",
       "    </tr>\n",
       "    <tr>\n",
       "      <th>timekit issue</th>\n",
       "      <td>1.0</td>\n",
       "      <td>0.0</td>\n",
       "      <td>0.0</td>\n",
       "      <td>0.0</td>\n",
       "      <td>1</td>\n",
       "    </tr>\n",
       "    <tr>\n",
       "      <th>All</th>\n",
       "      <td>17.0</td>\n",
       "      <td>54.0</td>\n",
       "      <td>25.0</td>\n",
       "      <td>21.0</td>\n",
       "      <td>117</td>\n",
       "    </tr>\n",
       "  </tbody>\n",
       "</table>\n",
       "</div>"
      ],
      "text/plain": [
       "total_vists                     a. 0  b. 1 to 5  c. 6 to 10  d. 10+  All\n",
       "reason                                                                  \n",
       "general fit                      2.0       12.0         8.0     3.0   25\n",
       "insurance                        0.0        0.0         0.0     1.0    1\n",
       "lgbtq                            1.0        0.0         0.0     0.0    1\n",
       "other (see notes)                0.0        0.0         1.0     0.0    1\n",
       "provider/therapist performance   4.0        5.0         0.0     1.0   10\n",
       "provider/therapist termed        0.0        1.0         1.0     0.0    2\n",
       "racial/gender preferences        5.0        1.0         1.0     1.0    8\n",
       "reactivation                     0.0       10.0         0.0     3.0   13\n",
       "scheduling issues                2.0        8.0         1.0     3.0   14\n",
       "state change                     2.0       17.0        13.0     9.0   41\n",
       "timekit issue                    1.0        0.0         0.0     0.0    1\n",
       "All                             17.0       54.0        25.0    21.0  117"
      ]
     },
     "execution_count": 41,
     "metadata": {},
     "output_type": "execute_result"
    }
   ],
   "source": [
    "#reassignments attributed to both or unknown\n",
    "pd.pivot_table(data=both_or_unknown_related,index='reason',aggfunc='count',values = 'value',columns = 'total_vists', margins = True).fillna(0)"
   ]
  }
 ],
 "metadata": {
  "kernelspec": {
   "display_name": "Python 3 (ipykernel)",
   "language": "python",
   "name": "python3"
  },
  "language_info": {
   "codemirror_mode": {
    "name": "ipython",
    "version": 3
   },
   "file_extension": ".py",
   "mimetype": "text/x-python",
   "name": "python",
   "nbconvert_exporter": "python",
   "pygments_lexer": "ipython3",
   "version": "3.9.7"
  }
 },
 "nbformat": 4,
 "nbformat_minor": 5
}
